{
 "cells": [
  {
   "cell_type": "code",
   "execution_count": 2,
   "metadata": {},
   "outputs": [
    {
     "name": "stdout",
     "output_type": "stream",
     "text": [
      "List without duplicates: [21, 31, 32, 41, 42, 51, 61]\n"
     ]
    }
   ],
   "source": [
    "# Importing numpy \n",
    "import numpy as np\n",
    "\n",
    "# Defining two lists with dupliactes\n",
    "num_1 = [21, 31, 41, 51, 61]\n",
    "num_2 = [32, 21, 42, 61, 51]\n",
    "\n",
    "# Using np.unique()\n",
    "unique_nums = list(np.unique(num_1 + num_2))\n",
    "\n",
    "# Printing merged list without duplicates\n",
    "print(\"List without duplicates:\", unique_nums)"
   ]
  },
  {
   "cell_type": "code",
   "execution_count": null,
   "metadata": {},
   "outputs": [],
   "source": [
    "# Importing Counter\n",
    "from collections import Counter\n",
    "\n",
    "# Defining two lists with dupliactes\n",
    "num_1 = [21, 31, 41, 51, 61]\n",
    "num_2 = [32, 21, 42, 61, 51]\n",
    "\n",
    "# Creating a Counter object for each list\n",
    "counter_num_1 = Counter(num_1)\n",
    "counter_num_2 = Counter(num_2)\n",
    "\n",
    "# Add the Counter objects, but only unique records from num_2\n",
    "combined_counter = counter_num_1 + Counter(ele for ele in counter_num_2 if ele not in counter_num_1)\n",
    " \n",
    "# Convert the Counter object to list\n",
    "final_list = list(combined_counter.elements())\n",
    " \n",
    "# Printing merged list without duplicates\n",
    "print(\"List without duplicates:\", final_list)"
   ]
  },
  {
   "cell_type": "code",
   "execution_count": null,
   "metadata": {},
   "outputs": [],
   "source": [
    "# Defining two lists with dupliactes\n",
    "num_1 = [21, 31, 41, 51, 61]\n",
    "num_2 = [32, 21, 42, 61, 51]\n",
    "\n",
    "# Creating a copy\n",
    "merged_list = list(num_1)\n",
    "\n",
    "\n",
    "# Uisng for loop and append()\n",
    "for element in num_2:\n",
    "    if element not in merged_list:\n",
    "        merged_list.append(element)\n",
    "      \n",
    "\n",
    "# Printing merged list without duplicates\n",
    "print(\"List without duplicates:\", merged_list)"
   ]
  },
  {
   "cell_type": "code",
   "execution_count": 1,
   "metadata": {},
   "outputs": [
    {
     "name": "stdout",
     "output_type": "stream",
     "text": [
      "{'csev': 2, 'cwen': 2, 'ziqian': 1}\n"
     ]
    }
   ],
   "source": [
    "counts = dict()\n",
    "names = ['csev','cwen','ziqian','cwen','csev']\n",
    "for name in names:\n",
    "   count[name] = counts.get(name, 0) + 1\n",
    "print(counts)"
   ]
  }
 ],
 "metadata": {
  "kernelspec": {
   "display_name": "Python 3",
   "language": "python",
   "name": "python3"
  },
  "language_info": {
   "codemirror_mode": {
    "name": "ipython",
    "version": 3
   },
   "file_extension": ".py",
   "mimetype": "text/x-python",
   "name": "python",
   "nbconvert_exporter": "python",
   "pygments_lexer": "ipython3",
   "version": "3.12.1"
  }
 },
 "nbformat": 4,
 "nbformat_minor": 2
}
