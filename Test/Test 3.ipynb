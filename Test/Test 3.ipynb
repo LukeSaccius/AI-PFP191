{
 "cells": [
  {
   "cell_type": "code",
   "execution_count": 16,
   "metadata": {},
   "outputs": [
    {
     "name": "stdout",
     "output_type": "stream",
     "text": [
      "Invalid input. invalid literal for int() with base 10: 'Hello'. Please try again.\n",
      "Missing value(s): {4}\n"
     ]
    }
   ],
   "source": [
    "def find_missing(n, numbers):\n",
    "    return set(range(min(numbers), min(numbers) + n)) - set(numbers)\n",
    "\n",
    "while True:\n",
    "    try:\n",
    "        n = int(input('Enter n: '))\n",
    "        numbers = list(map(int, input(f'Enter {n - 1} numbers: ').split()))\n",
    "        if len(numbers) != n - 1:\n",
    "            raise ValueError(\"Number of inputs does not match n-1.\")\n",
    "        missing = find_missing(n, numbers)\n",
    "        print(f'Missing value(s): {missing}')\n",
    "        break  # Exit loop if inputs are valid\n",
    "    except ValueError as e:\n",
    "        print(f\"Invalid input. {e}. Please try again.\")\n"
   ]
  },
  {
   "cell_type": "code",
   "execution_count": 2,
   "metadata": {},
   "outputs": [
    {
     "name": "stdout",
     "output_type": "stream",
     "text": [
      "Grade in letter: B\n",
      "Grade point for system: 3.0\n"
     ]
    }
   ],
   "source": [
    "def convert_grade(grade):\n",
    "    grade_boundaries = [(9.0, 'A', 4.0), (8.0, 'B+', 3.3), (7.0, 'B', 3.0), (6.0, 'C+', 2.3), (5.0, 'C', 2.0), (4.0, 'D', 1.0)]\n",
    "    for boundary, letter, points in grade_boundaries:\n",
    "        if grade >= boundary:\n",
    "            return letter, points\n",
    "    return 'F', 0.0  # For grades lower than 4.0\n",
    "\n",
    "grade = float(input('Enter grade PRF 191: '))\n",
    "letter_grade, grade_point = convert_grade(grade)\n",
    "print(f'Grade in letter: {letter_grade}\\nGrade point for system: {grade_point}')\n"
   ]
  },
  {
   "cell_type": "code",
   "execution_count": null,
   "metadata": {},
   "outputs": [],
   "source": [
    "# problem1.py\n",
    "def main():\n",
    "    while True:\n",
    "        try:\n",
    "            nums = map(int, input(\"Enter positive integers: \").split())\n",
    "            primes = [n for n in nums if n > 1 and all(n % d for d in range(2, int(n ** 0.5) + 1))]\n",
    "            print(f\"Primes: {primes}\\nLargest Prime: {max(primes, default='None')}\")\n",
    "            break\n",
    "        except ValueError:\n",
    "            print(\"Please enter valid positive integers.\")\n",
    "\n",
    "if __name__ == \"__main__\":\n",
    "    main()\n"
   ]
  },
  {
   "cell_type": "code",
   "execution_count": 1,
   "metadata": {},
   "outputs": [
    {
     "name": "stdout",
     "output_type": "stream",
     "text": [
      "Enter a correct number of integers.\n",
      "Enter a correct number of integers.\n",
      "NO\n"
     ]
    }
   ],
   "source": [
    "# problem2.py\n",
    "def main():\n",
    "    while True:\n",
    "        try:\n",
    "            n, arr = int(input(\"Number of elements: \")), list(map(int, input().split()))\n",
    "            print(\"YES\" if any(sum(arr[:i]) == sum(arr[i+1:]) for i in range(1, n)) else \"NO\")\n",
    "            break\n",
    "        except ValueError:\n",
    "            print(\"Enter a correct number of integers.\")\n",
    "\n",
    "if __name__ == \"__main__\":\n",
    "    main()\n"
   ]
  },
  {
   "cell_type": "code",
   "execution_count": 20,
   "metadata": {},
   "outputs": [
    {
     "name": "stdout",
     "output_type": "stream",
     "text": [
      "n>x\n",
      "n<x\n",
      "n<x\n",
      "n<x\n",
      "EXACTLY!\n"
     ]
    }
   ],
   "source": [
    "# problem3.py\n",
    "from random import randint\n",
    "\n",
    "def main():\n",
    "    secret = randint(1, 100)\n",
    "    while True:\n",
    "        try:\n",
    "            guess = int(input(\"Guess (1-100): \"))\n",
    "            if guess == secret:\n",
    "                print(\"EXACTLY!\")\n",
    "                break\n",
    "            print(\"n>x\" if guess < secret else \"n<x\")\n",
    "        except ValueError:\n",
    "            print(\"Enter a number between 1 and 100.\")\n",
    "\n",
    "if __name__ == \"__main__\":\n",
    "    main()\n"
   ]
  },
  {
   "cell_type": "code",
   "execution_count": 1,
   "metadata": {},
   "outputs": [
    {
     "name": "stdout",
     "output_type": "stream",
     "text": [
      "4\n",
      "6\n"
     ]
    }
   ],
   "source": [
    "a = [ 3, 5, 1, 6, 2, 8,2]\n",
    "for i in range(len(a)):\n",
    "    if a[i] == 2:\n",
    "        print(i)\n"
   ]
  }
 ],
 "metadata": {
  "kernelspec": {
   "display_name": "Python 3",
   "language": "python",
   "name": "python3"
  },
  "language_info": {
   "codemirror_mode": {
    "name": "ipython",
    "version": 3
   },
   "file_extension": ".py",
   "mimetype": "text/x-python",
   "name": "python",
   "nbconvert_exporter": "python",
   "pygments_lexer": "ipython3",
   "version": "3.11.8"
  }
 },
 "nbformat": 4,
 "nbformat_minor": 2
}
