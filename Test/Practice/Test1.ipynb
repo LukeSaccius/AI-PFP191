{
 "cells": [
  {
   "cell_type": "code",
   "execution_count": 13,
   "metadata": {},
   "outputs": [
    {
     "name": "stdout",
     "output_type": "stream",
     "text": [
      "['My', 'name', 'is', 'Kelly']\n"
     ]
    }
   ],
   "source": [
    "# Given lists\n",
    "list1 = [\"M\", \"na\", \"i\", \"Ke\"]\n",
    "list2 = [\"y\", \"me\", \"s\", \"lly\"]\n",
    "\n",
    "# Concatenating the lists index-wise\n",
    "concatenated_list = [i + j for i, j in zip(list1, list2)]\n",
    "print(concatenated_list)"
   ]
  },
  {
   "cell_type": "code",
   "execution_count": 23,
   "metadata": {},
   "outputs": [
    {
     "name": "stdout",
     "output_type": "stream",
     "text": [
      "[1, 4, 9, 16, 25, 36, 49]\n",
      "['HelloDear', 'HelloSir ', 'takeDear', 'takeSir ']\n"
     ]
    }
   ],
   "source": [
    "numbers = [1,2,3,4,5,6,7]\n",
    "numbers2 = [pow(i,2) for i in numbers]\n",
    "print(numbers2)\n",
    "list1 = [\"Hello\", \"take\"]\n",
    "list2 = [\"Dear\", \"Sir \"]\n",
    "result = [x + y for x in list1 for y in list2]\n",
    "print(result)"
   ]
  },
  {
   "cell_type": "code",
   "execution_count": 28,
   "metadata": {},
   "outputs": [
    {
     "name": "stdout",
     "output_type": "stream",
     "text": [
      "{'Ten': 10, 'Twenty': 20, 'Thirty': 30, 'Fourty': 40, 'Fifty': 50}\n",
      "80\n",
      "{'Kelly': {'designation': 'Developer', 'salary': 8000}, 'Emma': {'designation': 'Developer', 'salary': 8000}}\n"
     ]
    }
   ],
   "source": [
    "# Let's perform the tasks as described in the user's uploaded image.\n",
    "\n",
    "# Task 1: Merge two dictionaries\n",
    "dict1 = {'Ten': 10, 'Twenty': 20, 'Thirty': 30}\n",
    "dict2 = {'Thirty': 30, 'Fourty': 40, 'Fifty': 50}\n",
    "merged_dict = {**dict1, **dict2}\n",
    "\n",
    "# Task 2: Print the value of key 'history'\n",
    "sampleDict = {\n",
    "    \"class\": {\n",
    "        \"student\": {\n",
    "            \"name\": \"Mike\",\n",
    "            \"marks\": {\n",
    "                \"physics\": 70,\n",
    "                \"history\": 80\n",
    "            }\n",
    "        }\n",
    "    }\n",
    "}\n",
    "history_value = sampleDict[\"class\"][\"student\"][\"marks\"][\"history\"]\n",
    "\n",
    "# Task 3: Initialize dictionary with default values\n",
    "employees = ['Kelly', 'Emma']\n",
    "defaults = {\"designation\": \"Developer\", \"salary\": 8000}\n",
    "employees_dict = {emp: defaults.copy() for emp in employees}\n",
    "\n",
    "# Print results\n",
    "print(merged_dict)\n",
    "print(history_value)\n",
    "print(employees_dict)\n"
   ]
  },
  {
   "cell_type": "code",
   "execution_count": 30,
   "metadata": {},
   "outputs": [
    {
     "name": "stdout",
     "output_type": "stream",
     "text": [
      "20\n",
      "10\n",
      "20\n",
      "30\n",
      "40\n",
      "(99, 88)\n",
      "(11, 22)\n"
     ]
    }
   ],
   "source": [
    "# Let's write the Python code for the tasks based on the provided image.\n",
    "\n",
    "# Task 1: Access value 20 from the tuple\n",
    "tuple1 = (\"Orange\", [10, 20, 30], (5, 15, 25))\n",
    "value_20 = tuple1[1][1]  # Accessing the second element of the second list within the tuple\n",
    "print(value_20)\n",
    "# Task 2: Unpack the tuple into 4 variables\n",
    "tuple2 = (10, 20, 30, 40)\n",
    "a, b, c, d = tuple2  # Unpacking the tuple\n",
    "print(a)\n",
    "print(b)\n",
    "print(c)\n",
    "print(d)\n",
    "\n",
    "# Task 3: Swap two tuples in Python\n",
    "tuple3 = (11, 22)\n",
    "tuple4 = (99, 88)\n",
    "tuple3, tuple4 = tuple4, tuple3  # Swapping the tuples\n",
    "\n",
    "print(tuple3)\n",
    "print(tuple4)"
   ]
  },
  {
   "cell_type": "code",
   "execution_count": 4,
   "metadata": {},
   "outputs": [
    {
     "name": "stdout",
     "output_type": "stream",
     "text": [
      "The letter 'd' appears 1 time(s).\n",
      "The letter 'e' appears 1 time(s).\n",
      "The letter 'h' appears 1 time(s).\n",
      "The letter 'l' appears 3 time(s).\n",
      "The letter 'o' appears 2 time(s).\n",
      "The letter 'r' appears 1 time(s).\n",
      "The letter 'w' appears 1 time(s).\n"
     ]
    }
   ],
   "source": [
    "# Writing a Python program to count the frequency of each letter in a given string\n",
    "\n",
    "# Assuming the input is \"hello, world\\n\" as given in the example\n",
    "input_text = \"hello, world\\n\"\n",
    "\n",
    "# Removing any characters that are not letters and converting to lowercase\n",
    "cleaned_text = ''.join(filter(str.isalpha, input_text)).lower()\n",
    "\n",
    "# Counting the frequency of each letter\n",
    "frequency = {}\n",
    "for letter in cleaned_text:\n",
    "    if letter in frequency:\n",
    "        frequency[letter] += 1\n",
    "    else:\n",
    "        frequency[letter] = 1\n",
    "\n",
    "# Sorting the dictionary for display\n",
    "sorted_frequency = dict(sorted(frequency.items()))\n",
    "\n",
    "# Displaying the frequency of each letter\n",
    "for letter, count in sorted_frequency.items():\n",
    "    print(f\"The letter '{letter}' appears {count} time(s).\")\n"
   ]
  },
  {
   "cell_type": "code",
   "execution_count": 24,
   "metadata": {},
   "outputs": [
    {
     "name": "stdout",
     "output_type": "stream",
     "text": [
      "Sorted array: [11, 12, 22, 25, 34, 64, 90]\n",
      "Found key at position 3 in List\n",
      "Found key at position 3 in List using Iterative Binary Search\n",
      "Found key at position 3 in List using Recursive Binary Search\n"
     ]
    }
   ],
   "source": [
    "def selection_sort(arr):\n",
    "    for i in range(len(arr)):\n",
    "        # Find the minimum element in remaining unsorted array\n",
    "        min_idx = i\n",
    "        for j in range(i+1, len(arr)):\n",
    "            if arr[j] < arr[min_idx]:\n",
    "                min_idx = j\n",
    "        # Swap the found minimum element with the first element\n",
    "        arr[i], arr[min_idx] = arr[min_idx], arr[i]\n",
    "    return arr\n",
    "\n",
    "def sequential_search(arr, x):\n",
    "    for i in range(len(arr)):\n",
    "        if arr[i] == x:\n",
    "            return i\n",
    "    return -1\n",
    "\n",
    "# Recursive Binary Search\n",
    "def binary_search_recursive(arr, low, high, x):\n",
    "    if high >= low:\n",
    "        mid = (high + low) // 2\n",
    "        if arr[mid] == x:\n",
    "            return mid\n",
    "        elif arr[mid] > x:\n",
    "            return binary_search_recursive(arr, low, mid - 1, x)\n",
    "        else:\n",
    "            return binary_search_recursive(arr, mid + 1, high, x)\n",
    "    else:\n",
    "        return -1\n",
    "\n",
    "# Iterative Binary Search\n",
    "def binary_search_iterative(arr, x):\n",
    "    low, high = 0, len(arr) - 1\n",
    "    while low <= high:\n",
    "        mid = (low + high) // 2\n",
    "        if arr[mid] == x:\n",
    "            return mid\n",
    "        elif arr[mid] < x:\n",
    "            low = mid + 1\n",
    "        else:\n",
    "            high = mid - 1\n",
    "    return -1\n",
    "\n",
    "arr = [64, 34, 25, 12, 22, 11, 90]\n",
    "sorted_arr = selection_sort(arr)\n",
    "print(\"Sorted array:\", sorted_arr)\n",
    "\n",
    "search_key = 25\n",
    "seq_search_result = sequential_search(sorted_arr, search_key)\n",
    "if seq_search_result != -1:\n",
    "    print(f\"Found key at position {seq_search_result} in List\")\n",
    "else:\n",
    "    print(\"Not Found!\")\n",
    "\n",
    "bin_search_result = binary_search_iterative(sorted_arr, search_key)\n",
    "if bin_search_result != -1:\n",
    "    print(f\"Found key at position {bin_search_result} in List using Iterative Binary Search\")\n",
    "else:\n",
    "    print(\"Not Found using Iterative Binary Search\")\n",
    "\n",
    "bin_search_result_rec = binary_search_recursive(sorted_arr, 0, len(sorted_arr)-1, search_key)\n",
    "if bin_search_result_rec != -1:\n",
    "    print(f\"Found key at position {bin_search_result_rec} in List using Recursive Binary Search\")\n",
    "else:\n",
    "    print(\"Not Found using Recursive Binary Search\")\n",
    "\n"
   ]
  }
 ],
 "metadata": {
  "kernelspec": {
   "display_name": "Python 3",
   "language": "python",
   "name": "python3"
  },
  "language_info": {
   "codemirror_mode": {
    "name": "ipython",
    "version": 3
   },
   "file_extension": ".py",
   "mimetype": "text/x-python",
   "name": "python",
   "nbconvert_exporter": "python",
   "pygments_lexer": "ipython3",
   "version": "3.11.8"
  }
 },
 "nbformat": 4,
 "nbformat_minor": 2
}
