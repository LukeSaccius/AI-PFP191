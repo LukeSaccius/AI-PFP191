{
 "cells": [
  {
   "cell_type": "code",
   "execution_count": 1,
   "metadata": {},
   "outputs": [],
   "source": [
    "import os\n",
    "\n",
    "# Check if the file exists before renaming\n",
    "if os.path.exists('test.txt'):\n",
    "    os.rename('test.txt', 'sales1.txt')\n",
    "    os.rename('new_details.txt', 'sales2.txt')\n"
   ]
  },
  {
   "cell_type": "code",
   "execution_count": 2,
   "metadata": {},
   "outputs": [],
   "source": [
    "import os\n",
    "\n",
    "# Rename multiple files in the directory\n",
    "os.rename('sales1.txt', 'sales_1_new.txt')\n",
    "os.rename('sales2.txt', 'sales_2_new.txt')\n"
   ]
  },
  {
   "cell_type": "code",
   "execution_count": 3,
   "metadata": {},
   "outputs": [],
   "source": [
    "# This assumes you have a list of filenames that you want to rename.\n",
    "files_to_rename = ['sales_1_new.txt', 'sales_2_new.txt']\n",
    "new_names = ['sales_1.txt', 'sales_2.txt']\n",
    "\n",
    "for old_name, new_name in zip(files_to_rename, new_names):\n",
    "    os.rename(old_name, new_name)\n"
   ]
  },
  {
   "cell_type": "code",
   "execution_count": 5,
   "metadata": {},
   "outputs": [],
   "source": [
    "from datetime import datetime\n",
    "\n",
    "# Get current time to create a timestamp\n",
    "timestamp = datetime.now().strftime('%d-%b-%Y')\n",
    "\n",
    "# Rename files with a timestamp\n",
    "os.rename('sales1.txt', f'sales1_{timestamp}.txt')\n",
    "os.rename('sales2.txt', f'sales2_{timestamp}.txt')\n"
   ]
  },
  {
   "cell_type": "code",
   "execution_count": 6,
   "metadata": {},
   "outputs": [],
   "source": [
    "# List of files before renaming\n",
    "files_before = ['sales1_25-Feb-2024.txt', 'sales_1_new.txt', 'sales_2.txt']\n",
    "\n",
    "# Rename files by changing the extension\n",
    "for file in files_before:\n",
    "    name, ext = os.path.splitext(file)\n",
    "    os.rename(file, name + '.pdf')\n"
   ]
  },
  {
   "cell_type": "code",
   "execution_count": 7,
   "metadata": {},
   "outputs": [],
   "source": [
    "# Rename and move 'expense.txt' to 'new_location/expense_report.txt'\n",
    "os.rename('expense.txt', 'demo/expense_report.txt')\n"
   ]
  }
 ],
 "metadata": {
  "kernelspec": {
   "display_name": "base",
   "language": "python",
   "name": "python3"
  },
  "language_info": {
   "codemirror_mode": {
    "name": "ipython",
    "version": 3
   },
   "file_extension": ".py",
   "mimetype": "text/x-python",
   "name": "python",
   "nbconvert_exporter": "python",
   "pygments_lexer": "ipython3",
   "version": "3.11.5"
  }
 },
 "nbformat": 4,
 "nbformat_minor": 2
}
