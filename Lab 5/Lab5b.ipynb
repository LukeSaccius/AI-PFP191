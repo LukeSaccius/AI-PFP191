{
 "cells": [
  {
   "cell_type": "code",
   "execution_count": 23,
   "metadata": {},
   "outputs": [
    {
     "data": {
      "text/plain": [
       "(240, 18)"
      ]
     },
     "execution_count": 23,
     "metadata": {},
     "output_type": "execute_result"
    }
   ],
   "source": [
    "\n",
    "# Task 1: Vehicle class with max_speed and mileage instance attributes\n",
    "class Vehicle:\n",
    "    def __init__(self, name, max_speed, mileage):\n",
    "        self.name = name\n",
    "        self.max_speed = max_speed\n",
    "        self.mileage = mileage\n",
    "        \n",
    "# Create an instance of Vehicle\n",
    "car = Vehicle(240, 18)\n",
    "\n",
    "# Display the max_speed and mileage of the created Vehicle instance\n",
    "car_max_speed = car.max_speed\n",
    "car_mileage = car.mileage\n",
    "\n",
    "# Task 2: Vehicle class without any variables and methods\n",
    "class EmptyVehicle:\n",
    "    pass\n",
    "\n",
    "# Show the output for task 1\n",
    "(car_max_speed, car_mileage)\n"
   ]
  },
  {
   "cell_type": "code",
   "execution_count": 24,
   "metadata": {},
   "outputs": [
    {
     "name": "stdout",
     "output_type": "stream",
     "text": [
      "Vehicle Name: School Volvo Speed: 180 Mileage: 12\n",
      "The seating capacity of a School Volvo is 50 passengers\n"
     ]
    }
   ],
   "source": [
    "#Q2\n",
    "# class Vehicle:\n",
    "    def __init__(self, name, max_speed, mileage):\n",
    "        self.name = name\n",
    "        self.max_speed = max_speed\n",
    "        self.mileage = mileage\n",
    "# Bus class inheriting from Vehicle from Question 1\n",
    "class Bus(Vehicle):\n",
    "    # Overriding the seating_capacity method from Task 2\n",
    "    def seating_capacity(self, capacity=50):\n",
    "        return f\"The seating capacity of a {self.name} is {capacity} passengers\"\n",
    "\n",
    "# Create an instance of Bus for Task 1\n",
    "school_bus_task1 = Bus(\"School Volvo\", 180, 12)\n",
    "\n",
    "# Task 1 output string\n",
    "task1_output = f\"Vehicle Name: {school_bus_task1.name} Speed: {school_bus_task1.max_speed} Mileage: {school_bus_task1.mileage}\"\n",
    "\n",
    "# Task 2: Output string for seating capacity (default of 50)\n",
    "task2_output = school_bus_task1.seating_capacity()\n",
    "\n",
    "print(task1_output)\n",
    "print(task2_output)"
   ]
  },
  {
   "cell_type": "code",
   "execution_count": 34,
   "metadata": {},
   "outputs": [
    {
     "name": "stdout",
     "output_type": "stream",
     "text": [
      "white School Volvo Speed: 180 Mileage: 12\n",
      "white Audi Q5 Speed: 240 Mileage: 18\n",
      "Total Bus fare is: 5500.0\n"
     ]
    }
   ],
   "source": [
    "#Q3\n",
    "# Task 1: Adjust the Vehicle class and create instances of Bus and Car.\n",
    "class Vehicle:\n",
    "    color = 'white'  # Class attribute 'color' with a default value 'white'\n",
    "    \n",
    "    def __init__(self, name, max_speed, mileage):\n",
    "        self.name = name\n",
    "        self.max_speed = max_speed\n",
    "        self.mileage = mileage\n",
    "\n",
    "class Bus(Vehicle):\n",
    "    def fare(self):\n",
    "        base_fare = super().fare()\n",
    "        return base_fare + (base_fare * 0.10)  # Including maintenance charge\n",
    "\n",
    "    # Assuming fare method is a part of the Vehicle class as per the second image provided\n",
    "    def fare(self):\n",
    "        base_fare = self.capacity * 100\n",
    "        return base_fare + (base_fare * 0.10)  # Adding an extra 10% of base fare as maintenance charge\n",
    "\n",
    "class Car(Vehicle):\n",
    "    pass\n",
    "\n",
    "# Task 2: Bus class that calculates fare with an additional maintenance charge.\n",
    "\n",
    "# Create instances of Bus and Car with specified attributes\n",
    "school_bus = Bus('School Volvo', 180, 12)\n",
    "school_bus.capacity = 50  # setting the capacity directly for this instance\n",
    "\n",
    "# Creating an instance of Car with the name 'Audi Q5', max_speed 240, and mileage 18\n",
    "family_car = Car('Audi Q5', 240, 18)\n",
    "\n",
    "# Output for Task 1 \n",
    "output_task1_bus = f\"{Bus.color} {school_bus.name} Speed: {school_bus.max_speed} Mileage: {school_bus.mileage}\"\n",
    "output_task1_car = f\"{Car.color} {family_car.name} Speed: {family_car.max_speed} Mileage: {family_car.mileage}\"\n",
    "\n",
    "# Output for Task 2 \n",
    "# The fare for the Bus is calculated as base fare plus 10% maintenance charge.\n",
    "output_task2 = f\"Total Bus fare is: {school_bus.fare()}\"\n",
    "\n",
    "print(output_task1_bus)\n",
    "print(output_task1_car)\n",
    "print( output_task2)    \n"
   ]
  },
  {
   "cell_type": "code",
   "execution_count": 8,
   "metadata": {},
   "outputs": [
    {
     "name": "stdout",
     "output_type": "stream",
     "text": [
      "<class '__main__.Bus'>\n",
      "True\n"
     ]
    }
   ],
   "source": [
    "#Q4\n",
    "# # Task 1: Write a program to determine which class a given Bus object belongs to.\n",
    "# Task 2: Determine if School_bus is also an instance of the Vehicle class.\n",
    "\n",
    "# Given code from the images\n",
    "class Vehicle:\n",
    "    def __init__(self, name, mileage, capacity):\n",
    "        self.name = name\n",
    "        self.mileage = mileage\n",
    "        self.capacity = capacity\n",
    "\n",
    "class Bus(Vehicle):\n",
    "    pass\n",
    "\n",
    "# Creating an instance of Bus named School_bus\n",
    "School_bus = Bus(\"School Volvo\", 12, 50)\n",
    "\n",
    "# Task 1: Determine the class of School_bus\n",
    "class_of_school_bus = str(School_bus.__class__)\n",
    "\n",
    "# Task 2: Determine if School_bus is an instance of Vehicle\n",
    "is_school_bus_instance_of_vehicle = isinstance(School_bus, Vehicle)\n",
    "\n",
    "# Output for both tasks\n",
    "print(class_of_school_bus) \n",
    "print( is_school_bus_instance_of_vehicle)\n"
   ]
  },
  {
   "cell_type": "code",
   "execution_count": null,
   "metadata": {},
   "outputs": [],
   "source": []
  }
 ],
 "metadata": {
  "kernelspec": {
   "display_name": "base",
   "language": "python",
   "name": "python3"
  },
  "language_info": {
   "codemirror_mode": {
    "name": "ipython",
    "version": 3
   },
   "file_extension": ".py",
   "mimetype": "text/x-python",
   "name": "python",
   "nbconvert_exporter": "python",
   "pygments_lexer": "ipython3",
   "version": "3.11.8"
  }
 },
 "nbformat": 4,
 "nbformat_minor": 2
}
